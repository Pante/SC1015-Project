{
 "cells": [
  {
   "cell_type": "code",
   "execution_count": 1,
   "id": "63dff36a",
   "metadata": {},
   "outputs": [],
   "source": [
    "# Import essential libraries\n",
    "import numpy as np\n",
    "import pandas as pd\n",
    "import seaborn as sb\n",
    "import matplotlib.pyplot as plt\n",
    "import math as math\n",
    "%matplotlib inline\n",
    "sb.set()\n",
    "plt.style.use('fivethirtyeight') "
   ]
  },
  {
   "cell_type": "code",
   "execution_count": 2,
   "id": "737c5ab4",
   "metadata": {},
   "outputs": [
    {
     "data": {
      "text/html": [
       "<div>\n",
       "<style scoped>\n",
       "    .dataframe tbody tr th:only-of-type {\n",
       "        vertical-align: middle;\n",
       "    }\n",
       "\n",
       "    .dataframe tbody tr th {\n",
       "        vertical-align: top;\n",
       "    }\n",
       "\n",
       "    .dataframe thead th {\n",
       "        text-align: right;\n",
       "    }\n",
       "</style>\n",
       "<table border=\"1\" class=\"dataframe\">\n",
       "  <thead>\n",
       "    <tr style=\"text-align: right;\">\n",
       "      <th></th>\n",
       "      <th>recommend</th>\n",
       "      <th>original_price</th>\n",
       "      <th>discount_price</th>\n",
       "      <th>discount_percentage</th>\n",
       "      <th>mature_content</th>\n",
       "      <th>genre_Action</th>\n",
       "      <th>genre_Adventure</th>\n",
       "      <th>genre_Casual</th>\n",
       "      <th>genre_Massively Multiplayer</th>\n",
       "      <th>genre_RPG</th>\n",
       "      <th>genre_Racing</th>\n",
       "      <th>genre_Simulation</th>\n",
       "      <th>genre_Sports</th>\n",
       "      <th>genre_Strategy</th>\n",
       "      <th>K_cluster_0</th>\n",
       "      <th>K_cluster_1</th>\n",
       "      <th>K_cluster_2</th>\n",
       "      <th>K_cluster_3</th>\n",
       "      <th>K_cluster_4</th>\n",
       "    </tr>\n",
       "  </thead>\n",
       "  <tbody>\n",
       "    <tr>\n",
       "      <th>0</th>\n",
       "      <td>True</td>\n",
       "      <td>19.99</td>\n",
       "      <td>14.99</td>\n",
       "      <td>25.012506</td>\n",
       "      <td>False</td>\n",
       "      <td>1</td>\n",
       "      <td>0</td>\n",
       "      <td>0</td>\n",
       "      <td>0</td>\n",
       "      <td>0</td>\n",
       "      <td>0</td>\n",
       "      <td>0</td>\n",
       "      <td>0</td>\n",
       "      <td>0</td>\n",
       "      <td>0</td>\n",
       "      <td>0</td>\n",
       "      <td>0</td>\n",
       "      <td>1</td>\n",
       "      <td>0</td>\n",
       "    </tr>\n",
       "    <tr>\n",
       "      <th>1</th>\n",
       "      <td>False</td>\n",
       "      <td>29.99</td>\n",
       "      <td>29.99</td>\n",
       "      <td>0.000000</td>\n",
       "      <td>True</td>\n",
       "      <td>1</td>\n",
       "      <td>1</td>\n",
       "      <td>0</td>\n",
       "      <td>1</td>\n",
       "      <td>0</td>\n",
       "      <td>0</td>\n",
       "      <td>0</td>\n",
       "      <td>0</td>\n",
       "      <td>0</td>\n",
       "      <td>0</td>\n",
       "      <td>0</td>\n",
       "      <td>1</td>\n",
       "      <td>0</td>\n",
       "      <td>0</td>\n",
       "    </tr>\n",
       "    <tr>\n",
       "      <th>2</th>\n",
       "      <td>True</td>\n",
       "      <td>39.99</td>\n",
       "      <td>39.99</td>\n",
       "      <td>0.000000</td>\n",
       "      <td>False</td>\n",
       "      <td>1</td>\n",
       "      <td>1</td>\n",
       "      <td>0</td>\n",
       "      <td>0</td>\n",
       "      <td>0</td>\n",
       "      <td>0</td>\n",
       "      <td>0</td>\n",
       "      <td>0</td>\n",
       "      <td>1</td>\n",
       "      <td>0</td>\n",
       "      <td>0</td>\n",
       "      <td>1</td>\n",
       "      <td>0</td>\n",
       "      <td>0</td>\n",
       "    </tr>\n",
       "    <tr>\n",
       "      <th>3</th>\n",
       "      <td>False</td>\n",
       "      <td>44.99</td>\n",
       "      <td>44.99</td>\n",
       "      <td>0.000000</td>\n",
       "      <td>False</td>\n",
       "      <td>1</td>\n",
       "      <td>1</td>\n",
       "      <td>0</td>\n",
       "      <td>1</td>\n",
       "      <td>0</td>\n",
       "      <td>0</td>\n",
       "      <td>0</td>\n",
       "      <td>0</td>\n",
       "      <td>0</td>\n",
       "      <td>0</td>\n",
       "      <td>0</td>\n",
       "      <td>1</td>\n",
       "      <td>0</td>\n",
       "      <td>0</td>\n",
       "    </tr>\n",
       "    <tr>\n",
       "      <th>4</th>\n",
       "      <td>True</td>\n",
       "      <td>0.00</td>\n",
       "      <td>0.00</td>\n",
       "      <td>0.000000</td>\n",
       "      <td>False</td>\n",
       "      <td>1</td>\n",
       "      <td>0</td>\n",
       "      <td>0</td>\n",
       "      <td>1</td>\n",
       "      <td>1</td>\n",
       "      <td>0</td>\n",
       "      <td>0</td>\n",
       "      <td>0</td>\n",
       "      <td>1</td>\n",
       "      <td>0</td>\n",
       "      <td>0</td>\n",
       "      <td>1</td>\n",
       "      <td>0</td>\n",
       "      <td>0</td>\n",
       "    </tr>\n",
       "    <tr>\n",
       "      <th>...</th>\n",
       "      <td>...</td>\n",
       "      <td>...</td>\n",
       "      <td>...</td>\n",
       "      <td>...</td>\n",
       "      <td>...</td>\n",
       "      <td>...</td>\n",
       "      <td>...</td>\n",
       "      <td>...</td>\n",
       "      <td>...</td>\n",
       "      <td>...</td>\n",
       "      <td>...</td>\n",
       "      <td>...</td>\n",
       "      <td>...</td>\n",
       "      <td>...</td>\n",
       "      <td>...</td>\n",
       "      <td>...</td>\n",
       "      <td>...</td>\n",
       "      <td>...</td>\n",
       "      <td>...</td>\n",
       "    </tr>\n",
       "    <tr>\n",
       "      <th>40481</th>\n",
       "      <td>True</td>\n",
       "      <td>13.99</td>\n",
       "      <td>13.99</td>\n",
       "      <td>0.000000</td>\n",
       "      <td>True</td>\n",
       "      <td>1</td>\n",
       "      <td>1</td>\n",
       "      <td>1</td>\n",
       "      <td>0</td>\n",
       "      <td>0</td>\n",
       "      <td>0</td>\n",
       "      <td>0</td>\n",
       "      <td>0</td>\n",
       "      <td>0</td>\n",
       "      <td>0</td>\n",
       "      <td>0</td>\n",
       "      <td>0</td>\n",
       "      <td>0</td>\n",
       "      <td>1</td>\n",
       "    </tr>\n",
       "    <tr>\n",
       "      <th>40524</th>\n",
       "      <td>True</td>\n",
       "      <td>2.99</td>\n",
       "      <td>2.99</td>\n",
       "      <td>0.000000</td>\n",
       "      <td>False</td>\n",
       "      <td>1</td>\n",
       "      <td>1</td>\n",
       "      <td>0</td>\n",
       "      <td>0</td>\n",
       "      <td>0</td>\n",
       "      <td>0</td>\n",
       "      <td>0</td>\n",
       "      <td>0</td>\n",
       "      <td>0</td>\n",
       "      <td>0</td>\n",
       "      <td>0</td>\n",
       "      <td>0</td>\n",
       "      <td>0</td>\n",
       "      <td>1</td>\n",
       "    </tr>\n",
       "    <tr>\n",
       "      <th>40598</th>\n",
       "      <td>True</td>\n",
       "      <td>14.99</td>\n",
       "      <td>14.99</td>\n",
       "      <td>0.000000</td>\n",
       "      <td>False</td>\n",
       "      <td>0</td>\n",
       "      <td>0</td>\n",
       "      <td>0</td>\n",
       "      <td>0</td>\n",
       "      <td>0</td>\n",
       "      <td>0</td>\n",
       "      <td>1</td>\n",
       "      <td>0</td>\n",
       "      <td>0</td>\n",
       "      <td>0</td>\n",
       "      <td>1</td>\n",
       "      <td>0</td>\n",
       "      <td>0</td>\n",
       "      <td>0</td>\n",
       "    </tr>\n",
       "    <tr>\n",
       "      <th>40611</th>\n",
       "      <td>True</td>\n",
       "      <td>7.99</td>\n",
       "      <td>7.99</td>\n",
       "      <td>0.000000</td>\n",
       "      <td>False</td>\n",
       "      <td>0</td>\n",
       "      <td>1</td>\n",
       "      <td>0</td>\n",
       "      <td>0</td>\n",
       "      <td>0</td>\n",
       "      <td>0</td>\n",
       "      <td>0</td>\n",
       "      <td>0</td>\n",
       "      <td>0</td>\n",
       "      <td>0</td>\n",
       "      <td>0</td>\n",
       "      <td>0</td>\n",
       "      <td>0</td>\n",
       "      <td>1</td>\n",
       "    </tr>\n",
       "    <tr>\n",
       "      <th>40811</th>\n",
       "      <td>False</td>\n",
       "      <td>6.99</td>\n",
       "      <td>6.99</td>\n",
       "      <td>0.000000</td>\n",
       "      <td>False</td>\n",
       "      <td>1</td>\n",
       "      <td>1</td>\n",
       "      <td>1</td>\n",
       "      <td>0</td>\n",
       "      <td>1</td>\n",
       "      <td>0</td>\n",
       "      <td>0</td>\n",
       "      <td>0</td>\n",
       "      <td>0</td>\n",
       "      <td>0</td>\n",
       "      <td>0</td>\n",
       "      <td>1</td>\n",
       "      <td>0</td>\n",
       "      <td>0</td>\n",
       "    </tr>\n",
       "  </tbody>\n",
       "</table>\n",
       "<p>11620 rows × 19 columns</p>\n",
       "</div>"
      ],
      "text/plain": [
       "       recommend  original_price  discount_price  discount_percentage  \\\n",
       "0           True           19.99           14.99            25.012506   \n",
       "1          False           29.99           29.99             0.000000   \n",
       "2           True           39.99           39.99             0.000000   \n",
       "3          False           44.99           44.99             0.000000   \n",
       "4           True            0.00            0.00             0.000000   \n",
       "...          ...             ...             ...                  ...   \n",
       "40481       True           13.99           13.99             0.000000   \n",
       "40524       True            2.99            2.99             0.000000   \n",
       "40598       True           14.99           14.99             0.000000   \n",
       "40611       True            7.99            7.99             0.000000   \n",
       "40811      False            6.99            6.99             0.000000   \n",
       "\n",
       "       mature_content  genre_Action  genre_Adventure  genre_Casual  \\\n",
       "0               False             1                0             0   \n",
       "1                True             1                1             0   \n",
       "2               False             1                1             0   \n",
       "3               False             1                1             0   \n",
       "4               False             1                0             0   \n",
       "...               ...           ...              ...           ...   \n",
       "40481            True             1                1             1   \n",
       "40524           False             1                1             0   \n",
       "40598           False             0                0             0   \n",
       "40611           False             0                1             0   \n",
       "40811           False             1                1             1   \n",
       "\n",
       "       genre_Massively Multiplayer  genre_RPG  genre_Racing  genre_Simulation  \\\n",
       "0                                0          0             0                 0   \n",
       "1                                1          0             0                 0   \n",
       "2                                0          0             0                 0   \n",
       "3                                1          0             0                 0   \n",
       "4                                1          1             0                 0   \n",
       "...                            ...        ...           ...               ...   \n",
       "40481                            0          0             0                 0   \n",
       "40524                            0          0             0                 0   \n",
       "40598                            0          0             0                 1   \n",
       "40611                            0          0             0                 0   \n",
       "40811                            0          1             0                 0   \n",
       "\n",
       "       genre_Sports  genre_Strategy  K_cluster_0  K_cluster_1  K_cluster_2  \\\n",
       "0                 0               0            0            0            0   \n",
       "1                 0               0            0            0            1   \n",
       "2                 0               1            0            0            1   \n",
       "3                 0               0            0            0            1   \n",
       "4                 0               1            0            0            1   \n",
       "...             ...             ...          ...          ...          ...   \n",
       "40481             0               0            0            0            0   \n",
       "40524             0               0            0            0            0   \n",
       "40598             0               0            0            1            0   \n",
       "40611             0               0            0            0            0   \n",
       "40811             0               0            0            0            1   \n",
       "\n",
       "       K_cluster_3  K_cluster_4  \n",
       "0                1            0  \n",
       "1                0            0  \n",
       "2                0            0  \n",
       "3                0            0  \n",
       "4                0            0  \n",
       "...            ...          ...  \n",
       "40481            0            1  \n",
       "40524            0            1  \n",
       "40598            0            0  \n",
       "40611            0            1  \n",
       "40811            0            0  \n",
       "\n",
       "[11620 rows x 19 columns]"
      ]
     },
     "execution_count": 2,
     "metadata": {},
     "output_type": "execute_result"
    }
   ],
   "source": [
    "games_prediction = pd.read_csv('datasets/games-prediction-resampling.csv', index_col= 0)\n",
    "games_prediction"
   ]
  },
  {
   "cell_type": "code",
   "execution_count": null,
   "id": "a01f889d",
   "metadata": {},
   "outputs": [],
   "source": []
  },
  {
   "cell_type": "markdown",
   "id": "cdb85505",
   "metadata": {},
   "source": [
    "# Data Resampling"
   ]
  },
  {
   "cell_type": "markdown",
   "id": "b0dce6f6",
   "metadata": {},
   "source": [
    "## Balanced Resampling"
   ]
  },
  {
   "cell_type": "code",
   "execution_count": 3,
   "id": "6bb84c21",
   "metadata": {},
   "outputs": [
    {
     "data": {
      "text/plain": [
       "True     7550\n",
       "False    7550\n",
       "Name: recommend, dtype: int64"
      ]
     },
     "execution_count": 3,
     "metadata": {},
     "output_type": "execute_result"
    }
   ],
   "source": [
    "# Upsample Bad to match Good\n",
    "from sklearn.utils import resample\n",
    "\n",
    "gamesBad = games_prediction[games_prediction.recommend == False]\n",
    "gamesGood = games_prediction[games_prediction.recommend == True]\n",
    " \n",
    "# Upsample the Bad samples\n",
    "gamesBad = resample(gamesBad, \n",
    "                        replace=True,                     # sample with replacement\n",
    "                        n_samples=gamesGood.shape[0])    # to match number of Good\n",
    " \n",
    "# Combine the two classes back after upsampling\n",
    "games_prediction_balanced = pd.concat([gamesGood, gamesBad])\n",
    " \n",
    "# Check the ratio of the classes\n",
    "games_prediction_balanced['recommend'].value_counts()"
   ]
  },
  {
   "cell_type": "code",
   "execution_count": 4,
   "id": "a9ba29d2",
   "metadata": {},
   "outputs": [
    {
     "data": {
      "text/plain": [
       "<seaborn.axisgrid.FacetGrid at 0x2288c260b50>"
      ]
     },
     "execution_count": 4,
     "metadata": {},
     "output_type": "execute_result"
    },
    {
     "data": {
      "image/png": "[encoded data removed]",
      "text/plain": [
       "<Figure size 500x500 with 1 Axes>"
      ]
     },
     "metadata": {},
     "output_type": "display_data"
    }
   ],
   "source": [
    "# Quick plot to check the balanced classes visually\n",
    "sb.catplot(y = 'recommend', data = games_prediction_balanced, kind = \"count\")"
   ]
  },
  {
   "cell_type": "code",
   "execution_count": 5,
   "id": "19540e54",
   "metadata": {},
   "outputs": [],
   "source": [
    "games_prediction_balanced.to_csv('datasets/games-prediction-balanced-resampling.csv')"
   ]
  },
  {
   "cell_type": "markdown",
   "id": "7227c1f0",
   "metadata": {},
   "source": [
    "## Oversampling"
   ]
  },
  {
   "cell_type": "code",
   "execution_count": 6,
   "id": "01f483a0",
   "metadata": {},
   "outputs": [],
   "source": [
    "# Import essential Oversampling module\n",
    "from imblearn.over_sampling import RandomOverSampler"
   ]
  },
  {
   "cell_type": "code",
   "execution_count": 7,
   "id": "7047ec7b",
   "metadata": {},
   "outputs": [],
   "source": [
    "# Define oversampling strategy (creates 5:4 ratio)\n",
    "over_smp = RandomOverSampler(sampling_strategy=0.8, random_state=20)\n",
    "\n",
    "# Define X and y\n",
    "X = games_prediction.drop('recommend', axis = 1)\n",
    "y = games_prediction['recommend']\n",
    "\n",
    "# Fit and apply the transform\n",
    "X_oversampled, y_oversampled = over_smp.fit_resample(X, y)"
   ]
  },
  {
   "cell_type": "code",
   "execution_count": 8,
   "id": "d6747798",
   "metadata": {},
   "outputs": [
    {
     "name": "stdout",
     "output_type": "stream",
     "text": [
      "Good vs Bad Games Proportion (After oversampling)\n",
      "7550 : 6040\n"
     ]
    }
   ],
   "source": [
    "print(\"Good vs Bad Games Proportion (After oversampling)\")\n",
    "print(y_oversampled.value_counts()[1], ':', y_oversampled.value_counts()[0])"
   ]
  },
  {
   "cell_type": "code",
   "execution_count": 9,
   "id": "dc7a7bb3",
   "metadata": {},
   "outputs": [
    {
     "data": {
      "text/plain": [
       "<seaborn.axisgrid.FacetGrid at 0x22893c17250>"
      ]
     },
     "execution_count": 9,
     "metadata": {},
     "output_type": "execute_result"
    },
    {
     "data": {
      "image/png": "[encoded data removed]",
      "text/plain": [
       "<Figure size 500x500 with 1 Axes>"
      ]
     },
     "metadata": {},
     "output_type": "display_data"
    }
   ],
   "source": [
    "# Combine the two classes back after upsampling\n",
    "games_prediction_oversampling = pd.concat([X_oversampled, pd.DataFrame(y_oversampled)], axis = 1)\n",
    " \n",
    "# Quick plot to check the balanced classes visually\n",
    "sb.catplot(y = 'recommend', data = games_prediction_oversampling, kind = \"count\")"
   ]
  },
  {
   "cell_type": "code",
   "execution_count": 10,
   "id": "e4c35a66",
   "metadata": {},
   "outputs": [],
   "source": [
    "games_prediction_oversampling.to_csv('datasets/games-prediction-over-resampling.csv')"
   ]
  },
  {
   "cell_type": "markdown",
   "id": "ec79a634",
   "metadata": {},
   "source": [
    "## Visualization of resampled data"
   ]
  },
  {
   "cell_type": "code",
   "execution_count": 11,
   "id": "ed061dd1",
   "metadata": {},
   "outputs": [],
   "source": [
    "games_balanced_resampled = pd.read_csv('datasets/games-prediction-balanced-resampling.csv',index_col= 0)\n",
    "games_over_resampled = pd.read_csv('datasets/games-prediction-over-resampling.csv',index_col= 0)\n",
    "games_original_ratio = pd.read_csv('datasets/games-prediction-resampling.csv',index_col=0)\n",
    "\n"
   ]
  },
  {
   "cell_type": "code",
   "execution_count": 12,
   "id": "5ed8ac02",
   "metadata": {},
   "outputs": [
    {
     "data": {
      "text/plain": [
       "Text(0.5, 0, 'Recommend - Balanced sampled')"
      ]
     },
     "execution_count": 12,
     "metadata": {},
     "output_type": "execute_result"
    },
    {
     "data": {
      "image/png": "[encoded data removed]",
      "text/plain": [
       "<Figure size 2400x1200 with 3 Axes>"
      ]
     },
     "metadata": {},
     "output_type": "display_data"
    }
   ],
   "source": [
    "fig, axes =plt.subplots(1,3,figsize=(24,12))\n",
    "plt.setp(axes,ylim=(0,8000))\n",
    "\n",
    "sb.countplot(x=games_original_ratio['recommend'], ax=axes[0])\n",
    "ax = axes[0]\n",
    "ax.set_xlabel(\"Recommend - Original\",fontsize=15)\n",
    "\n",
    "sb.countplot(x=games_over_resampled['recommend'], ax=axes[1])\n",
    "ax = axes[1]\n",
    "ax.set_xlabel(\"Recommend - Oversampled\",fontsize=15)\n",
    "\n",
    "sb.countplot(x=games_balanced_resampled['recommend'], ax=axes[2])\n",
    "ax = axes[2]\n",
    "ax.set_xlabel(\"Recommend - Balanced sampled\",fontsize=15)\n",
    "\n",
    "\n"
   ]
  }
 ],
 "metadata": {
  "kernelspec": {
   "display_name": "Python 3 (ipykernel)",
   "language": "python",
   "name": "python3"
  },
  "language_info": {
   "codemirror_mode": {
    "name": "ipython",
    "version": 3
   },
   "file_extension": ".py",
   "mimetype": "text/x-python",
   "name": "python",
   "nbconvert_exporter": "python",
   "pygments_lexer": "ipython3",
   "version": "3.9.13"
  }
 },
 "nbformat": 4,
 "nbformat_minor": 5
}
